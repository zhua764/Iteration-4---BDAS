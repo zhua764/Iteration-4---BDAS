{
 "cells": [
  {
   "cell_type": "code",
   "execution_count": 1,
   "metadata": {},
   "outputs": [],
   "source": [
    "import findspark\n",
    "findspark.init('/home/ubuntu/spark-2.1.1-bin-hadoop2.7')\n",
    "import pyspark\n",
    "from pyspark.sql import SparkSession\n",
    "spark = SparkSession.builder.appName('Iteration 4').getOrCreate()\n",
    "\n",
    "from pyspark.ml.classification import LogisticRegression"
   ]
  },
  {
   "cell_type": "code",
   "execution_count": 2,
   "metadata": {},
   "outputs": [],
   "source": [
    "data = spark.read.csv('./balanced.csv',inferSchema=True,header=True)"
   ]
  },
  {
   "cell_type": "code",
   "execution_count": 3,
   "metadata": {},
   "outputs": [
    {
     "name": "stdout",
     "output_type": "stream",
     "text": [
      "root\n",
      " |-- age: integer (nullable = true)\n",
      " |-- weight: double (nullable = true)\n",
      " |-- blood pressure: integer (nullable = true)\n",
      " |-- cholesterol: integer (nullable = true)\n",
      " |-- gluc: integer (nullable = true)\n",
      " |-- cardio: integer (nullable = true)\n",
      "\n"
     ]
    },
    {
     "data": {
      "text/plain": [
       "['age', 'weight', 'blood pressure', 'cholesterol', 'gluc', 'cardio']"
      ]
     },
     "execution_count": 3,
     "metadata": {},
     "output_type": "execute_result"
    }
   ],
   "source": [
    "# Print data schema.\n",
    "data.printSchema()\n",
    "\n",
    "# Print data columns.\n",
    "data.columns"
   ]
  },
  {
   "cell_type": "code",
   "execution_count": 4,
   "metadata": {},
   "outputs": [],
   "source": [
    "my_cols = data.select(['age',\n",
    " 'weight',\n",
    " 'blood pressure',\n",
    " 'cholesterol',\n",
    " 'gluc',\n",
    " 'cardio'])"
   ]
  },
  {
   "cell_type": "code",
   "execution_count": 5,
   "metadata": {},
   "outputs": [],
   "source": [
    "from pyspark.ml.feature import (VectorAssembler,VectorIndexer,\n",
    "                                OneHotEncoder,StringIndexer)"
   ]
  },
  {
   "cell_type": "code",
   "execution_count": 6,
   "metadata": {},
   "outputs": [],
   "source": [
    "assembler = VectorAssembler(\n",
    "    inputCols=['age',\n",
    "             'weight',\n",
    "             'blood pressure',\n",
    "             'cholesterol',\n",
    "             'gluc'],\n",
    "            outputCol='features')"
   ]
  },
  {
   "cell_type": "code",
   "execution_count": 7,
   "metadata": {},
   "outputs": [],
   "source": [
    "from pyspark.ml import Pipeline"
   ]
  },
  {
   "cell_type": "markdown",
   "metadata": {},
   "source": [
    "###### Logistic Regression"
   ]
  },
  {
   "cell_type": "code",
   "execution_count": 8,
   "metadata": {},
   "outputs": [],
   "source": [
    "lr = LogisticRegression(featuresCol='features',labelCol='cardio')\n",
    "\n",
    "pipeline = Pipeline(stages=[assembler,lr])"
   ]
  },
  {
   "cell_type": "code",
   "execution_count": 9,
   "metadata": {},
   "outputs": [],
   "source": [
    "train_data, test_data = data.randomSplit([0.8,0.2])"
   ]
  },
  {
   "cell_type": "code",
   "execution_count": 10,
   "metadata": {},
   "outputs": [
    {
     "name": "stdout",
     "output_type": "stream",
     "text": [
      "49349\n",
      "+---+------+--------------+-----------+----+------+\n",
      "|age|weight|blood pressure|cholesterol|gluc|cardio|\n",
      "+---+------+--------------+-----------+----+------+\n",
      "| 39|  45.0|             1|          1|   1|     0|\n",
      "| 39|  45.0|             3|          2|   1|     0|\n",
      "| 39|  46.0|             1|          1|   1|     0|\n",
      "| 39|  50.0|             1|          1|   1|     0|\n",
      "| 39|  50.0|             1|          1|   1|     0|\n",
      "| 39|  50.0|             1|          1|   1|     0|\n",
      "| 39|  50.0|             3|          1|   1|     0|\n",
      "| 39|  51.0|             3|          1|   1|     0|\n",
      "| 39|  52.0|             1|          1|   1|     0|\n",
      "| 39|  52.0|             2|          1|   1|     0|\n",
      "| 39|  52.0|             3|          1|   1|     0|\n",
      "| 39|  52.0|             4|          1|   1|     1|\n",
      "| 39|  53.0|             1|          1|   1|     0|\n",
      "| 39|  53.0|             1|          1|   1|     0|\n",
      "| 39|  53.0|             1|          1|   1|     1|\n",
      "| 39|  53.0|             3|          1|   3|     0|\n",
      "| 39|  54.0|             1|          1|   1|     0|\n",
      "| 39|  54.0|             3|          1|   1|     0|\n",
      "| 39|  54.0|             3|          1|   1|     0|\n",
      "| 39|  54.0|             3|          1|   1|     0|\n",
      "+---+------+--------------+-----------+----+------+\n",
      "only showing top 20 rows\n",
      "\n"
     ]
    }
   ],
   "source": [
    "print(train_data.count())\n",
    "train_data.show()"
   ]
  },
  {
   "cell_type": "code",
   "execution_count": 11,
   "metadata": {},
   "outputs": [
    {
     "name": "stdout",
     "output_type": "stream",
     "text": [
      "12387\n",
      "+---+------+--------------+-----------+----+------+\n",
      "|age|weight|blood pressure|cholesterol|gluc|cardio|\n",
      "+---+------+--------------+-----------+----+------+\n",
      "| 30|  59.0|             1|          1|   1|     0|\n",
      "| 30|  59.0|             3|          1|   1|     0|\n",
      "| 30|  59.0|             3|          1|   1|     0|\n",
      "| 39|  47.0|             3|          1|   1|     0|\n",
      "| 39|  49.0|             1|          1|   1|     0|\n",
      "| 39|  53.0|             3|          1|   1|     0|\n",
      "| 39|  54.0|             1|          1|   1|     0|\n",
      "| 39|  57.0|             1|          1|   1|     0|\n",
      "| 39|  57.0|             1|          1|   1|     0|\n",
      "| 39|  58.0|             3|          1|   1|     0|\n",
      "| 39|  59.0|             1|          1|   1|     0|\n",
      "| 39|  60.0|             1|          2|   1|     0|\n",
      "| 39|  60.0|             3|          1|   1|     0|\n",
      "| 39|  61.0|             3|          2|   2|     0|\n",
      "| 39|  62.0|             3|          1|   1|     0|\n",
      "| 39|  62.0|             3|          1|   1|     0|\n",
      "| 39|  64.0|             3|          1|   1|     1|\n",
      "| 39|  64.0|             4|          1|   1|     0|\n",
      "| 39|  65.0|             1|          1|   1|     0|\n",
      "| 39|  65.0|             3|          1|   1|     0|\n",
      "+---+------+--------------+-----------+----+------+\n",
      "only showing top 20 rows\n",
      "\n"
     ]
    }
   ],
   "source": [
    "print(test_data.count())\n",
    "test_data.show()"
   ]
  },
  {
   "cell_type": "code",
   "execution_count": 12,
   "metadata": {},
   "outputs": [],
   "source": [
    "fit_model = pipeline.fit(train_data)\n",
    "\n",
    "results = fit_model.transform(test_data)"
   ]
  },
  {
   "cell_type": "code",
   "execution_count": 13,
   "metadata": {},
   "outputs": [
    {
     "name": "stdout",
     "output_type": "stream",
     "text": [
      "+------+----------+\n",
      "|cardio|prediction|\n",
      "+------+----------+\n",
      "|     0|       0.0|\n",
      "|     0|       0.0|\n",
      "|     0|       0.0|\n",
      "|     0|       0.0|\n",
      "|     0|       0.0|\n",
      "|     0|       0.0|\n",
      "|     0|       0.0|\n",
      "|     0|       0.0|\n",
      "|     0|       0.0|\n",
      "|     0|       0.0|\n",
      "|     0|       0.0|\n",
      "|     0|       0.0|\n",
      "|     0|       0.0|\n",
      "|     0|       0.0|\n",
      "|     0|       0.0|\n",
      "|     0|       0.0|\n",
      "|     1|       0.0|\n",
      "|     0|       0.0|\n",
      "|     0|       0.0|\n",
      "|     0|       0.0|\n",
      "+------+----------+\n",
      "only showing top 20 rows\n",
      "\n"
     ]
    }
   ],
   "source": [
    "results.select('cardio','prediction').show()"
   ]
  },
  {
   "cell_type": "code",
   "execution_count": 14,
   "metadata": {},
   "outputs": [
    {
     "data": {
      "text/plain": [
       "0.6820643918318035"
      ]
     },
     "execution_count": 14,
     "metadata": {},
     "output_type": "execute_result"
    }
   ],
   "source": [
    "from pyspark.ml.evaluation import BinaryClassificationEvaluator\n",
    "\n",
    "my_eval = BinaryClassificationEvaluator(rawPredictionCol='prediction',\n",
    "                                       labelCol='cardio')\n",
    "AUC = my_eval.evaluate(results)\n",
    "\n",
    "AUC"
   ]
  },
  {
   "cell_type": "markdown",
   "metadata": {},
   "source": [
    "###### Random Forest"
   ]
  },
  {
   "cell_type": "code",
   "execution_count": 15,
   "metadata": {},
   "outputs": [],
   "source": [
    "output = assembler.transform(data)\n",
    "\n",
    "data = output.select('features','cardio')\n",
    "\n",
    "train_data,test_data = data.randomSplit([0.8,0.2])"
   ]
  },
  {
   "cell_type": "code",
   "execution_count": 16,
   "metadata": {},
   "outputs": [],
   "source": [
    "from pyspark.ml.classification import RandomForestClassifier\n",
    "\n",
    "rfc = RandomForestClassifier(labelCol='cardio',featuresCol='features',numTrees=100)\n",
    "\n",
    "rfc_model = rfc.fit(train_data)\n",
    "\n",
    "rfc_predictions = rfc_model.transform(test_data)"
   ]
  },
  {
   "cell_type": "code",
   "execution_count": 17,
   "metadata": {},
   "outputs": [
    {
     "name": "stdout",
     "output_type": "stream",
     "text": [
      "+------+----------+\n",
      "|cardio|prediction|\n",
      "+------+----------+\n",
      "|     0|       0.0|\n",
      "|     0|       0.0|\n",
      "|     0|       0.0|\n",
      "|     0|       0.0|\n",
      "|     0|       0.0|\n",
      "|     0|       0.0|\n",
      "|     0|       0.0|\n",
      "|     0|       0.0|\n",
      "|     1|       1.0|\n",
      "|     0|       0.0|\n",
      "|     0|       0.0|\n",
      "|     0|       0.0|\n",
      "|     0|       0.0|\n",
      "|     0|       0.0|\n",
      "|     0|       0.0|\n",
      "|     1|       0.0|\n",
      "|     0|       0.0|\n",
      "|     1|       1.0|\n",
      "|     0|       0.0|\n",
      "|     0|       0.0|\n",
      "+------+----------+\n",
      "only showing top 20 rows\n",
      "\n"
     ]
    }
   ],
   "source": [
    "rfc_predictions.select('cardio','prediction').show()"
   ]
  },
  {
   "cell_type": "code",
   "execution_count": 18,
   "metadata": {},
   "outputs": [],
   "source": [
    "my_binary_eval = BinaryClassificationEvaluator(labelCol = 'cardio')"
   ]
  },
  {
   "cell_type": "code",
   "execution_count": 19,
   "metadata": {},
   "outputs": [
    {
     "name": "stdout",
     "output_type": "stream",
     "text": [
      "RFC\n",
      "0.7585096098364721\n"
     ]
    }
   ],
   "source": [
    "print(\"RFC\")\n",
    "print(my_binary_eval.evaluate(rfc_predictions))"
   ]
  },
  {
   "cell_type": "markdown",
   "metadata": {},
   "source": [
    "###### 7.3 Search for patterns"
   ]
  },
  {
   "cell_type": "code",
   "execution_count": 20,
   "metadata": {
    "scrolled": true
   },
   "outputs": [],
   "source": [
    "import numpy as np\n",
    "import matplotlib.pyplot as plt\n",
    "%matplotlib inline\n",
    "\n",
    "rf = rfc_predictions.select('features','prediction').toPandas()\n",
    "rf.to_csv(\"rf_predict.csv\",index=False)\n",
    "\n",
    "lr = results.select('features','prediction').toPandas()\n",
    "lr.to_csv(\"lr_predict.csv\", index=False)"
   ]
  },
  {
   "cell_type": "code",
   "execution_count": 21,
   "metadata": {
    "scrolled": false
   },
   "outputs": [],
   "source": [
    "import pandas as pd\n",
    "pdf_rf = pd.read_csv(\"./rf__predict.csv\")\n",
    "pdf_lr = pd.read_csv(\"./lr__predict.csv\")"
   ]
  },
  {
   "cell_type": "code",
   "execution_count": 22,
   "metadata": {},
   "outputs": [
    {
     "data": {
      "text/plain": [
       "Text(0.5,1,'Random Forest')"
      ]
     },
     "execution_count": 22,
     "metadata": {},
     "output_type": "execute_result"
    },
    {
     "data": {
      "image/png": "[encoded data removed]",
      "text/plain": [
       "<Figure size 792x648 with 2 Axes>"
      ]
     },
     "metadata": {},
     "output_type": "display_data"
    }
   ],
   "source": [
    "import seaborn as sns\n",
    "\n",
    "corr1 = pdf_rf.corr(method='pearson')\n",
    "cmap = sns.diverging_palette(220, 10, as_cmap=True)\n",
    "# Generate a mask for the upper triangle\n",
    "mask = np.zeros_like(corr1, dtype=np.bool)\n",
    "mask[np.triu_indices_from(mask)] = True\n",
    "\n",
    "# Set up the matplotlib figure\n",
    "f, ax = plt.subplots(figsize=(11, 9))\n",
    "# Draw the heatmap with the mask and correct aspect ratio\n",
    "sns.heatmap(corr1, mask=mask, cmap=cmap, vmax=.3, center=0,annot = True,\n",
    "             square=True, linewidths=.5, cbar_kws={\"shrink\": .5});\n",
    "plt.title('Random Forest')"
   ]
  },
  {
   "cell_type": "code",
   "execution_count": 23,
   "metadata": {},
   "outputs": [
    {
     "data": {
      "text/plain": [
       "Text(0.5,1,'Logistic Regression')"
      ]
     },
     "execution_count": 23,
     "metadata": {},
     "output_type": "execute_result"
    },
    {
     "data": {
      "image/png": "[encoded data removed]",
      "text/plain": [
       "<Figure size 792x648 with 2 Axes>"
      ]
     },
     "metadata": {},
     "output_type": "display_data"
    }
   ],
   "source": [
    "corr2 = pdf_rf.corr(method='pearson')\n",
    "cmap = sns.diverging_palette(220, 10, as_cmap=True)\n",
    "# Generate a mask for the upper triangle\n",
    "mask = np.zeros_like(corr1, dtype=np.bool)\n",
    "mask[np.triu_indices_from(mask)] = True\n",
    "\n",
    "# Set up the matplotlib figure\n",
    "f, ax = plt.subplots(figsize=(11, 9))\n",
    "# Draw the heatmap with the mask and correct aspect ratio\n",
    "sns.heatmap(corr1, mask=mask, cmap=cmap, vmax=.3, center=0,annot = True,\n",
    "             square=True, linewidths=.5, cbar_kws={\"shrink\": .5});\n",
    "plt.title('Logistic Regression')"
   ]
  },
  {
   "cell_type": "code",
   "execution_count": null,
   "metadata": {},
   "outputs": [],
   "source": []
  }
 ],
 "metadata": {
  "kernelspec": {
   "display_name": "Python 3",
   "language": "python",
   "name": "python3"
  },
  "language_info": {
   "codemirror_mode": {
    "name": "ipython",
    "version": 3
   },
   "file_extension": ".py",
   "mimetype": "text/x-python",
   "name": "python",
   "nbconvert_exporter": "python",
   "pygments_lexer": "ipython3",
   "version": "3.5.2"
  }
 },
 "nbformat": 4,
 "nbformat_minor": 2
}
