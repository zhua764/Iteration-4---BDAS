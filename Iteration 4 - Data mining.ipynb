{
 "cells": [
  {
   "cell_type": "code",
   "execution_count": 1,
   "metadata": {},
   "outputs": [],
   "source": [
    "import findspark\n",
    "findspark.init('/home/ubuntu/spark-2.1.1-bin-hadoop2.7')\n",
    "import pyspark\n",
    "from pyspark.sql import SparkSession\n",
    "spark = SparkSession.builder.appName('logistic_regression').getOrCreate()\n",
    "\n",
    "from pyspark.ml.classification import LogisticRegression"
   ]
  },
  {
   "cell_type": "code",
   "execution_count": 2,
   "metadata": {},
   "outputs": [],
   "source": [
    "data = spark.read.csv('./balanced.csv',inferSchema=True,header=True)"
   ]
  },
  {
   "cell_type": "code",
   "execution_count": 3,
   "metadata": {},
   "outputs": [
    {
     "name": "stdout",
     "output_type": "stream",
     "text": [
      "root\n",
      " |-- age: integer (nullable = true)\n",
      " |-- gender: integer (nullable = true)\n",
      " |-- height: integer (nullable = true)\n",
      " |-- weight: double (nullable = true)\n",
      " |-- blood pressure: integer (nullable = true)\n",
      " |-- cholesterol: integer (nullable = true)\n",
      " |-- gluc: integer (nullable = true)\n",
      " |-- smoke: integer (nullable = true)\n",
      " |-- alco: integer (nullable = true)\n",
      " |-- active: integer (nullable = true)\n",
      " |-- cardio: integer (nullable = true)\n",
      "\n"
     ]
    },
    {
     "data": {
      "text/plain": [
       "['age',\n",
       " 'gender',\n",
       " 'height',\n",
       " 'weight',\n",
       " 'blood pressure',\n",
       " 'cholesterol',\n",
       " 'gluc',\n",
       " 'smoke',\n",
       " 'alco',\n",
       " 'active',\n",
       " 'cardio']"
      ]
     },
     "execution_count": 3,
     "metadata": {},
     "output_type": "execute_result"
    }
   ],
   "source": [
    "# Print data schema.\n",
    "data.printSchema()\n",
    "\n",
    "# Print data columns.\n",
    "data.columns"
   ]
  },
  {
   "cell_type": "code",
   "execution_count": 4,
   "metadata": {},
   "outputs": [],
   "source": [
    "my_cols = data.select(['age',\n",
    " 'weight',\n",
    " 'blood pressure',\n",
    " 'cholesterol',\n",
    " 'gluc',\n",
    " 'cardio'])"
   ]
  },
  {
   "cell_type": "code",
   "execution_count": 5,
   "metadata": {},
   "outputs": [],
   "source": [
    "from pyspark.ml.feature import (VectorAssembler,VectorIndexer,\n",
    "                                OneHotEncoder,StringIndexer)"
   ]
  },
  {
   "cell_type": "code",
   "execution_count": 6,
   "metadata": {},
   "outputs": [],
   "source": [
    "assembler = VectorAssembler(\n",
    "    inputCols=['age',\n",
    "             'weight',\n",
    "             'blood pressure',\n",
    "             'cholesterol',\n",
    "             'gluc'],\n",
    "            outputCol='features')"
   ]
  },
  {
   "cell_type": "code",
   "execution_count": 7,
   "metadata": {},
   "outputs": [],
   "source": [
    "from pyspark.ml import Pipeline"
   ]
  },
  {
   "cell_type": "markdown",
   "metadata": {},
   "source": [
    "###### Logistic Regression"
   ]
  },
  {
   "cell_type": "code",
   "execution_count": 8,
   "metadata": {},
   "outputs": [],
   "source": [
    "lr = LogisticRegression(featuresCol='features',labelCol='cardio')\n",
    "\n",
    "pipeline = Pipeline(stages=[assembler,lr])"
   ]
  },
  {
   "cell_type": "code",
   "execution_count": 9,
   "metadata": {},
   "outputs": [],
   "source": [
    "train_data, test_data = data.randomSplit([0.8,0.2])"
   ]
  },
  {
   "cell_type": "code",
   "execution_count": 10,
   "metadata": {},
   "outputs": [
    {
     "name": "stdout",
     "output_type": "stream",
     "text": [
      "49611\n",
      "+---+------+------+------+--------------+-----------+----+-----+----+------+------+\n",
      "|age|gender|height|weight|blood pressure|cholesterol|gluc|smoke|alco|active|cardio|\n",
      "+---+------+------+------+--------------+-----------+----+-----+----+------+------+\n",
      "| 30|     1|   159|  59.0|             3|          1|   1|    0|   0|     1|     0|\n",
      "| 30|     1|   160|  59.0|             1|          1|   1|    0|   0|     1|     0|\n",
      "| 30|     1|   175|  59.0|             3|          1|   1|    0|   0|     1|     0|\n",
      "| 39|     1|   148|  65.0|             1|          1|   1|    0|   0|     1|     0|\n",
      "| 39|     1|   150|  63.0|             3|          1|   1|    0|   0|     1|     0|\n",
      "| 39|     1|   150|  67.0|             1|          1|   1|    0|   0|     1|     0|\n",
      "| 39|     1|   150|  85.0|             4|          1|   1|    0|   0|     1|     0|\n",
      "| 39|     1|   152|  60.0|             1|          1|   1|    0|   0|     1|     0|\n",
      "| 39|     1|   152|  67.0|             1|          1|   1|    0|   0|     1|     0|\n",
      "| 39|     1|   152|  67.0|             1|          1|   1|    0|   0|     1|     0|\n",
      "| 39|     1|   152|  72.0|             1|          1|   1|    0|   0|     1|     0|\n",
      "| 39|     1|   154|  53.0|             3|          1|   1|    0|   0|     1|     0|\n",
      "| 39|     1|   154|  65.0|             3|          1|   1|    0|   0|     0|     0|\n",
      "| 39|     1|   154|  67.0|             4|          2|   1|    0|   0|     1|     1|\n",
      "| 39|     1|   155|  53.0|             1|          1|   1|    0|   0|     1|     0|\n",
      "| 39|     1|   155|  61.0|             1|          2|   2|    0|   0|     0|     0|\n",
      "| 39|     1|   155|  68.0|             4|          3|   3|    0|   0|     1|     0|\n",
      "| 39|     1|   155|  80.0|             3|          1|   1|    0|   0|     1|     0|\n",
      "| 39|     1|   156|  45.0|             3|          2|   1|    0|   0|     0|     0|\n",
      "| 39|     1|   156|  49.0|             1|          1|   1|    0|   0|     1|     0|\n",
      "+---+------+------+------+--------------+-----------+----+-----+----+------+------+\n",
      "only showing top 20 rows\n",
      "\n"
     ]
    }
   ],
   "source": [
    "print(train_data.count())\n",
    "train_data.show()"
   ]
  },
  {
   "cell_type": "code",
   "execution_count": 11,
   "metadata": {},
   "outputs": [
    {
     "name": "stdout",
     "output_type": "stream",
     "text": [
      "12125\n",
      "+---+------+------+------+--------------+-----------+----+-----+----+------+------+\n",
      "|age|gender|height|weight|blood pressure|cholesterol|gluc|smoke|alco|active|cardio|\n",
      "+---+------+------+------+--------------+-----------+----+-----+----+------+------+\n",
      "| 39|     1|   151|  50.0|             1|          1|   1|    0|   0|     1|     0|\n",
      "| 39|     1|   151|  62.0|             1|          1|   1|    0|   0|     1|     0|\n",
      "| 39|     1|   153|  70.0|             2|          1|   1|    0|   0|     1|     0|\n",
      "| 39|     1|   153|  91.0|             3|          1|   1|    0|   0|     1|     0|\n",
      "| 39|     1|   156|  69.0|             3|          1|   1|    0|   0|     1|     0|\n",
      "| 39|     1|   156|  70.0|             3|          3|   3|    0|   0|     0|     0|\n",
      "| 39|     1|   156|  87.0|             3|          1|   1|    0|   0|     0|     1|\n",
      "| 39|     1|   157|  58.0|             1|          1|   1|    0|   0|     1|     0|\n",
      "| 39|     1|   158|  75.0|             3|          1|   1|    0|   0|     0|     0|\n",
      "| 39|     1|   158|  80.0|             3|          1|   1|    0|   0|     0|     0|\n",
      "| 39|     1|   159|  78.0|             3|          2|   1|    0|   0|     1|     1|\n",
      "| 39|     1|   159|  80.0|             3|          1|   3|    0|   0|     1|     0|\n",
      "| 39|     1|   160|  50.0|             1|          1|   1|    0|   0|     1|     0|\n",
      "| 39|     1|   160|  54.0|             3|          1|   1|    0|   0|     1|     0|\n",
      "| 39|     1|   161|  80.0|             4|          3|   3|    0|   0|     1|     1|\n",
      "| 39|     1|   162|  64.0|             1|          1|   1|    0|   0|     1|     0|\n",
      "| 39|     1|   162|  72.0|             3|          1|   1|    0|   0|     0|     0|\n",
      "| 39|     1|   162|  76.0|             1|          1|   1|    0|   0|     1|     0|\n",
      "| 39|     1|   163|  64.0|             3|          2|   1|    0|   0|     1|     0|\n",
      "| 39|     1|   163|  65.0|             2|          1|   1|    0|   0|     0|     0|\n",
      "+---+------+------+------+--------------+-----------+----+-----+----+------+------+\n",
      "only showing top 20 rows\n",
      "\n"
     ]
    }
   ],
   "source": [
    "print(test_data.count())\n",
    "test_data.show()"
   ]
  },
  {
   "cell_type": "code",
   "execution_count": 12,
   "metadata": {},
   "outputs": [],
   "source": [
    "fit_model = pipeline.fit(train_data)\n",
    "\n",
    "results = fit_model.transform(test_data)"
   ]
  },
  {
   "cell_type": "code",
   "execution_count": 13,
   "metadata": {},
   "outputs": [
    {
     "name": "stdout",
     "output_type": "stream",
     "text": [
      "+------+----------+\n",
      "|cardio|prediction|\n",
      "+------+----------+\n",
      "|     0|       0.0|\n",
      "|     0|       0.0|\n",
      "|     0|       0.0|\n",
      "|     0|       0.0|\n",
      "|     0|       0.0|\n",
      "|     0|       0.0|\n",
      "|     1|       0.0|\n",
      "|     0|       0.0|\n",
      "|     0|       0.0|\n",
      "|     0|       0.0|\n",
      "|     1|       0.0|\n",
      "|     0|       0.0|\n",
      "|     0|       0.0|\n",
      "|     0|       0.0|\n",
      "|     1|       1.0|\n",
      "|     0|       0.0|\n",
      "|     0|       0.0|\n",
      "|     0|       0.0|\n",
      "|     0|       0.0|\n",
      "|     0|       0.0|\n",
      "+------+----------+\n",
      "only showing top 20 rows\n",
      "\n"
     ]
    }
   ],
   "source": [
    "results.select('cardio','prediction').show()"
   ]
  },
  {
   "cell_type": "code",
   "execution_count": 14,
   "metadata": {},
   "outputs": [
    {
     "data": {
      "text/plain": [
       "0.6844388937963359"
      ]
     },
     "execution_count": 14,
     "metadata": {},
     "output_type": "execute_result"
    }
   ],
   "source": [
    "from pyspark.ml.evaluation import BinaryClassificationEvaluator\n",
    "\n",
    "my_eval = BinaryClassificationEvaluator(rawPredictionCol='prediction',\n",
    "                                       labelCol='cardio')\n",
    "AUC = my_eval.evaluate(results)\n",
    "\n",
    "AUC"
   ]
  },
  {
   "cell_type": "markdown",
   "metadata": {},
   "source": [
    "###### Random Forest"
   ]
  },
  {
   "cell_type": "code",
   "execution_count": 15,
   "metadata": {},
   "outputs": [],
   "source": [
    "output = assembler.transform(data)\n",
    "\n",
    "data = output.select('features','cardio')\n",
    "\n",
    "train_data,test_data = data.randomSplit([0.8,0.2])"
   ]
  },
  {
   "cell_type": "code",
   "execution_count": 16,
   "metadata": {},
   "outputs": [],
   "source": [
    "from pyspark.ml.classification import RandomForestClassifier\n",
    "\n",
    "rfc = RandomForestClassifier(labelCol='cardio',featuresCol='features',numTrees=100)\n",
    "\n",
    "rfc_model = rfc.fit(train_data)\n",
    "\n",
    "rfc_predictions = rfc_model.transform(test_data)"
   ]
  },
  {
   "cell_type": "code",
   "execution_count": 17,
   "metadata": {},
   "outputs": [
    {
     "name": "stdout",
     "output_type": "stream",
     "text": [
      "+------+----------+\n",
      "|cardio|prediction|\n",
      "+------+----------+\n",
      "|     0|       0.0|\n",
      "|     0|       0.0|\n",
      "|     0|       0.0|\n",
      "|     0|       0.0|\n",
      "|     1|       1.0|\n",
      "|     0|       0.0|\n",
      "|     0|       0.0|\n",
      "|     0|       0.0|\n",
      "|     1|       0.0|\n",
      "|     0|       0.0|\n",
      "|     1|       0.0|\n",
      "|     1|       0.0|\n",
      "|     0|       0.0|\n",
      "|     0|       0.0|\n",
      "|     0|       0.0|\n",
      "|     0|       0.0|\n",
      "|     1|       0.0|\n",
      "|     0|       0.0|\n",
      "|     0|       0.0|\n",
      "|     0|       0.0|\n",
      "+------+----------+\n",
      "only showing top 20 rows\n",
      "\n"
     ]
    }
   ],
   "source": [
    "rfc_predictions.select('cardio','prediction').show()"
   ]
  },
  {
   "cell_type": "code",
   "execution_count": 18,
   "metadata": {},
   "outputs": [],
   "source": [
    "my_binary_eval = BinaryClassificationEvaluator(labelCol = 'cardio')"
   ]
  },
  {
   "cell_type": "code",
   "execution_count": 19,
   "metadata": {},
   "outputs": [
    {
     "name": "stdout",
     "output_type": "stream",
     "text": [
      "RFC\n",
      "0.7534553920562758\n"
     ]
    }
   ],
   "source": [
    "print(\"RFC\")\n",
    "print(my_binary_eval.evaluate(rfc_predictions))"
   ]
  },
  {
   "cell_type": "markdown",
   "metadata": {},
   "source": [
    "###### 7.3 Search for patterns"
   ]
  },
  {
   "cell_type": "code",
   "execution_count": 20,
   "metadata": {},
   "outputs": [
    {
     "data": {
      "text/plain": [
       "(array([7366.,    0.,    0.,    0.,    0.,    0.,    0.,    0.,    0.,\n",
       "        4896.]),\n",
       " array([0. , 0.1, 0.2, 0.3, 0.4, 0.5, 0.6, 0.7, 0.8, 0.9, 1. ]),\n",
       " <a list of 10 Patch objects>)"
      ]
     },
     "execution_count": 20,
     "metadata": {},
     "output_type": "execute_result"
    },
    {
     "data": {
      "image/png": "[encoded data removed]",
      "text/plain": [
       "<Figure size 432x288 with 1 Axes>"
      ]
     },
     "metadata": {},
     "output_type": "display_data"
    }
   ],
   "source": [
    "import numpy as np\n",
    "import matplotlib.pyplot as plt\n",
    "%matplotlib inline\n",
    "\n",
    "rf_out = np.array(rfc_predictions.select('prediction').collect())\n",
    "plt.hist(rf_out)"
   ]
  },
  {
   "cell_type": "code",
   "execution_count": 21,
   "metadata": {
    "scrolled": false
   },
   "outputs": [
    {
     "data": {
      "text/plain": [
       "(array([7366.,    0.,    0.,    0.,    0.,    0.,    0.,    0.,    0.,\n",
       "        4896.]),\n",
       " array([0. , 0.1, 0.2, 0.3, 0.4, 0.5, 0.6, 0.7, 0.8, 0.9, 1. ]),\n",
       " <a list of 10 Patch objects>)"
      ]
     },
     "execution_count": 21,
     "metadata": {},
     "output_type": "execute_result"
    },
    {
     "data": {
      "image/png": "[encoded data removed]",
      "text/plain": [
       "<Figure size 432x288 with 1 Axes>"
      ]
     },
     "metadata": {},
     "output_type": "display_data"
    }
   ],
   "source": [
    "lr_out = np.array(results.select('prediction').collect())\n",
    "plt.hist(rf_out)"
   ]
  },
  {
   "cell_type": "code",
   "execution_count": null,
   "metadata": {},
   "outputs": [],
   "source": []
  }
 ],
 "metadata": {
  "kernelspec": {
   "display_name": "Python 3",
   "language": "python",
   "name": "python3"
  },
  "language_info": {
   "codemirror_mode": {
    "name": "ipython",
    "version": 3
   },
   "file_extension": ".py",
   "mimetype": "text/x-python",
   "name": "python",
   "nbconvert_exporter": "python",
   "pygments_lexer": "ipython3",
   "version": "3.5.2"
  }
 },
 "nbformat": 4,
 "nbformat_minor": 2
}
