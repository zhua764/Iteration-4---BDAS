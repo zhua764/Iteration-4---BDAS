{
 "cells": [
  {
   "cell_type": "code",
   "execution_count": 1,
   "metadata": {},
   "outputs": [
    {
     "name": "stdout",
     "output_type": "stream",
     "text": [
      "\u001b[33mDEPRECATION: Python 3.5 reached the end of its life on September 13th, 2020. Please upgrade your Python as Python 3.5 is no longer maintained. pip 21.0 will drop support for Python 3.5 in January 2021. pip 21.0 will remove support for this functionality.\u001b[0m\n",
      "Defaulting to user installation because normal site-packages is not writeable\n",
      "Requirement already up-to-date: pip in ./.local/lib/python3.5/site-packages (20.2.4)\n"
     ]
    }
   ],
   "source": [
    "!pip3 install --upgrade pip"
   ]
  },
  {
   "cell_type": "code",
   "execution_count": 2,
   "metadata": {},
   "outputs": [],
   "source": [
    "import findspark\n",
    "findspark.init('/home/ubuntu/spark-2.1.1-bin-hadoop2.7')\n",
    "import pyspark\n",
    "from pyspark.sql import SparkSession\n",
    "spark = SparkSession.builder.appName('Iteration 4').getOrCreate()"
   ]
  },
  {
   "cell_type": "code",
   "execution_count": 3,
   "metadata": {},
   "outputs": [],
   "source": [
    "df = spark.read.load(\"./cardio_train.csv\", format=\"csv\", header=\"true\")"
   ]
  },
  {
   "cell_type": "code",
   "execution_count": 4,
   "metadata": {},
   "outputs": [
    {
     "name": "stdout",
     "output_type": "stream",
     "text": [
      "+---+-----+------+------+------+-----+-----+-----------+----+-----+----+------+------+\n",
      "| id|  age|gender|height|weight|ap_hi|ap_lo|cholesterol|gluc|smoke|alco|active|cardio|\n",
      "+---+-----+------+------+------+-----+-----+-----------+----+-----+----+------+------+\n",
      "|  0|18393|     2|   168|    62|  110|   80|          1|   1|    0|   0|     1|     0|\n",
      "|  1|20228|     1|   156|    85|  140|   90|          3|   1|    0|   0|     1|     1|\n",
      "|  2|18857|     1|   165|    64|  130|   70|          3|   1|    0|   0|     0|     1|\n",
      "|  3|17623|     2|   169|    82|  150|  100|          1|   1|    0|   0|     1|     1|\n",
      "|  4|17474|     1|   156|    56|  100|   60|          1|   1|    0|   0|     0|     0|\n",
      "|  8|21914|     1|   151|    67|  120|   80|          2|   2|    0|   0|     0|     0|\n",
      "|  9|22113|     1|   157|    93|  130|   80|          3|   1|    0|   0|     1|     0|\n",
      "| 12|22584|     2|   178|    95|  130|   90|          3|   3|    0|   0|     1|     1|\n",
      "| 13|17668|     1|   158|    71|  110|   70|          1|   1|    0|   0|     1|     0|\n",
      "| 14|19834|     1|   164|    68|  110|   60|          1|   1|    0|   0|     0|     0|\n",
      "| 15|22530|     1|   169|    80|  120|   80|          1|   1|    0|   0|     1|     0|\n",
      "| 16|18815|     2|   173|    60|  120|   80|          1|   1|    0|   0|     1|     0|\n",
      "| 18|14791|     2|   165|    60|  120|   80|          1|   1|    0|   0|     0|     0|\n",
      "| 21|19809|     1|   158|    78|  110|   70|          1|   1|    0|   0|     1|     0|\n",
      "| 23|14532|     2|   181|    95|  130|   90|          1|   1|    1|   1|     1|     0|\n",
      "| 24|16782|     2|   172|   112|  120|   80|          1|   1|    0|   0|     0|     1|\n",
      "| 25|21296|     1|   170|    75|  130|   70|          1|   1|    0|   0|     0|     0|\n",
      "| 27|16747|     1|   158|    52|  110|   70|          1|   3|    0|   0|     1|     0|\n",
      "| 28|17482|     1|   154|    68|  100|   70|          1|   1|    0|   0|     0|     0|\n",
      "| 29|21755|     2|   162|    56|  120|   70|          1|   1|    1|   0|     1|     0|\n",
      "+---+-----+------+------+------+-----+-----+-----------+----+-----+----+------+------+\n",
      "only showing top 20 rows\n",
      "\n"
     ]
    }
   ],
   "source": [
    "df.show()"
   ]
  },
  {
   "cell_type": "markdown",
   "metadata": {},
   "source": [
    "###### 2.2 Describe data"
   ]
  },
  {
   "cell_type": "code",
   "execution_count": 5,
   "metadata": {},
   "outputs": [
    {
     "data": {
      "text/plain": [
       "70000"
      ]
     },
     "execution_count": 5,
     "metadata": {},
     "output_type": "execute_result"
    }
   ],
   "source": [
    "# count number of rows\n",
    "df.count()"
   ]
  },
  {
   "cell_type": "code",
   "execution_count": 6,
   "metadata": {},
   "outputs": [
    {
     "data": {
      "text/plain": [
       "['id',\n",
       " 'age',\n",
       " 'gender',\n",
       " 'height',\n",
       " 'weight',\n",
       " 'ap_hi',\n",
       " 'ap_lo',\n",
       " 'cholesterol',\n",
       " 'gluc',\n",
       " 'smoke',\n",
       " 'alco',\n",
       " 'active',\n",
       " 'cardio']"
      ]
     },
     "execution_count": 6,
     "metadata": {},
     "output_type": "execute_result"
    }
   ],
   "source": [
    "# attributes\n",
    "df.columns"
   ]
  },
  {
   "cell_type": "code",
   "execution_count": 7,
   "metadata": {},
   "outputs": [
    {
     "data": {
      "text/plain": [
       "13"
      ]
     },
     "execution_count": 7,
     "metadata": {},
     "output_type": "execute_result"
    }
   ],
   "source": [
    "len(df.columns)"
   ]
  },
  {
   "cell_type": "markdown",
   "metadata": {},
   "source": [
    "###### 2.3 Explore data"
   ]
  },
  {
   "cell_type": "code",
   "execution_count": 8,
   "metadata": {},
   "outputs": [],
   "source": [
    "import pandas as pd\n",
    "import matplotlib.pyplot as plt\n",
    "\n",
    "pdf = pd.read_csv(\"./cardio_train.csv\")"
   ]
  },
  {
   "cell_type": "code",
   "execution_count": 9,
   "metadata": {},
   "outputs": [
    {
     "data": {
      "text/plain": [
       "Text(0.5,1,'Graph I')"
      ]
     },
     "execution_count": 9,
     "metadata": {},
     "output_type": "execute_result"
    },
    {
     "data": {
      "image/png": "[encoded data removed]",
      "text/plain": [
       "<Figure size 432x288 with 1 Axes>"
      ]
     },
     "metadata": {},
     "output_type": "display_data"
    }
   ],
   "source": [
    "plt.hist(pdf[\"gender\"])\n",
    "plt.xlabel('gender')\n",
    "plt.title('Graph I')"
   ]
  },
  {
   "cell_type": "code",
   "execution_count": 10,
   "metadata": {},
   "outputs": [
    {
     "data": {
      "text/plain": [
       "Text(0.5,1,'Graph II')"
      ]
     },
     "execution_count": 10,
     "metadata": {},
     "output_type": "execute_result"
    },
    {
     "data": {
      "image/png": "[encoded data removed]",
      "text/plain": [
       "<Figure size 432x288 with 1 Axes>"
      ]
     },
     "metadata": {},
     "output_type": "display_data"
    }
   ],
   "source": [
    "plt.hist(pdf[\"smoke\"])\n",
    "plt.xlabel('smoke')\n",
    "plt.title('Graph II')"
   ]
  },
  {
   "cell_type": "code",
   "execution_count": 11,
   "metadata": {},
   "outputs": [
    {
     "data": {
      "text/plain": [
       "Text(0.5,1,'Graph III')"
      ]
     },
     "execution_count": 11,
     "metadata": {},
     "output_type": "execute_result"
    },
    {
     "data": {
      "image/png": "[encoded data removed]",
      "text/plain": [
       "<Figure size 432x288 with 1 Axes>"
      ]
     },
     "metadata": {},
     "output_type": "display_data"
    }
   ],
   "source": [
    "plt.hist(pdf[\"alco\"])\n",
    "plt.xlabel('alco')\n",
    "plt.title('Graph III')"
   ]
  },
  {
   "cell_type": "code",
   "execution_count": 12,
   "metadata": {},
   "outputs": [
    {
     "data": {
      "text/plain": [
       "Text(0.5,1,'Graph IV')"
      ]
     },
     "execution_count": 12,
     "metadata": {},
     "output_type": "execute_result"
    },
    {
     "data": {
      "image/png": "[encoded data removed]",
      "text/plain": [
       "<Figure size 432x288 with 1 Axes>"
      ]
     },
     "metadata": {},
     "output_type": "display_data"
    }
   ],
   "source": [
    "plt.hist(pdf[\"cardio\"])\n",
    "plt.xlabel('cardio')\n",
    "plt.title('Graph IV')"
   ]
  },
  {
   "cell_type": "code",
   "execution_count": 13,
   "metadata": {},
   "outputs": [
    {
     "name": "stdout",
     "output_type": "stream",
     "text": [
      "\u001b[33mDEPRECATION: Python 3.5 reached the end of its life on September 13th, 2020. Please upgrade your Python as Python 3.5 is no longer maintained. pip 21.0 will drop support for Python 3.5 in January 2021. pip 21.0 will remove support for this functionality.\u001b[0m\n",
      "Defaulting to user installation because normal site-packages is not writeable\n",
      "Requirement already satisfied: seaborn in ./.local/lib/python3.5/site-packages (0.9.1)\n",
      "Requirement already satisfied: matplotlib>=1.5.3 in ./.local/lib/python3.5/site-packages (from seaborn) (2.2.2)\n",
      "Requirement already satisfied: pandas>=0.17.1 in ./.local/lib/python3.5/site-packages (from seaborn) (0.23.4)\n",
      "Requirement already satisfied: scipy>=0.17.1 in ./.local/lib/python3.5/site-packages (from seaborn) (1.4.1)\n",
      "Requirement already satisfied: numpy>=1.10.4 in ./.local/lib/python3.5/site-packages (from seaborn) (1.15.1)\n",
      "Requirement already satisfied: six>=1.10 in ./.local/lib/python3.5/site-packages (from matplotlib>=1.5.3->seaborn) (1.11.0)\n",
      "Requirement already satisfied: kiwisolver>=1.0.1 in ./.local/lib/python3.5/site-packages (from matplotlib>=1.5.3->seaborn) (1.0.1)\n",
      "Requirement already satisfied: cycler>=0.10 in ./.local/lib/python3.5/site-packages (from matplotlib>=1.5.3->seaborn) (0.10.0)\n",
      "Requirement already satisfied: pyparsing!=2.0.4,!=2.1.2,!=2.1.6,>=2.0.1 in ./.local/lib/python3.5/site-packages (from matplotlib>=1.5.3->seaborn) (2.2.0)\n",
      "Requirement already satisfied: pytz in ./.local/lib/python3.5/site-packages (from matplotlib>=1.5.3->seaborn) (2018.5)\n",
      "Requirement already satisfied: python-dateutil>=2.1 in ./.local/lib/python3.5/site-packages (from matplotlib>=1.5.3->seaborn) (2.7.3)\n",
      "Requirement already satisfied: setuptools in ./.local/lib/python3.5/site-packages (from kiwisolver>=1.0.1->matplotlib>=1.5.3->seaborn) (39.2.0)\n"
     ]
    }
   ],
   "source": [
    "!pip3 install seaborn"
   ]
  },
  {
   "cell_type": "code",
   "execution_count": 14,
   "metadata": {},
   "outputs": [
    {
     "data": {
      "text/plain": [
       "<matplotlib.axes._subplots.AxesSubplot at 0x7f7165d04908>"
      ]
     },
     "execution_count": 14,
     "metadata": {},
     "output_type": "execute_result"
    },
    {
     "data": {
      "image/png": "[encoded data removed]",
      "text/plain": [
       "<Figure size 432x288 with 1 Axes>"
      ]
     },
     "metadata": {},
     "output_type": "display_data"
    }
   ],
   "source": [
    "import numpy as np\n",
    "import seaborn as sns\n",
    "\n",
    "sns.regplot(x=\"age\", y=\"cardio\", data=pdf)"
   ]
  },
  {
   "cell_type": "code",
   "execution_count": 15,
   "metadata": {
    "scrolled": true
   },
   "outputs": [
    {
     "data": {
      "text/plain": [
       "<matplotlib.axes._subplots.AxesSubplot at 0x7f7165d2c080>"
      ]
     },
     "execution_count": 15,
     "metadata": {},
     "output_type": "execute_result"
    },
    {
     "data": {
      "image/png": "[encoded data removed]",
      "text/plain": [
       "<Figure size 432x288 with 1 Axes>"
      ]
     },
     "metadata": {},
     "output_type": "display_data"
    }
   ],
   "source": [
    "sns.regplot(x=\"weight\", y=\"cardio\", data=pdf)"
   ]
  },
  {
   "cell_type": "code",
   "execution_count": 16,
   "metadata": {},
   "outputs": [
    {
     "data": {
      "text/plain": [
       "<matplotlib.axes._subplots.AxesSubplot at 0x7f7165c955f8>"
      ]
     },
     "execution_count": 16,
     "metadata": {},
     "output_type": "execute_result"
    },
    {
     "data": {
      "image/png": "[encoded data removed]",
      "text/plain": [
       "<Figure size 432x288 with 1 Axes>"
      ]
     },
     "metadata": {},
     "output_type": "display_data"
    }
   ],
   "source": [
    "sns.regplot(x=\"ap_hi\", y=\"cardio\", data=pdf)"
   ]
  },
  {
   "cell_type": "code",
   "execution_count": 17,
   "metadata": {},
   "outputs": [
    {
     "data": {
      "text/plain": [
       "<matplotlib.axes._subplots.AxesSubplot at 0x7f7165b57da0>"
      ]
     },
     "execution_count": 17,
     "metadata": {},
     "output_type": "execute_result"
    },
    {
     "data": {
      "image/png": "[encoded data removed]",
      "text/plain": [
       "<Figure size 432x288 with 1 Axes>"
      ]
     },
     "metadata": {},
     "output_type": "display_data"
    }
   ],
   "source": [
    "sns.regplot(x=\"ap_lo\", y=\"cardio\", data=pdf)"
   ]
  },
  {
   "cell_type": "markdown",
   "metadata": {},
   "source": [
    "###### 2.4 Verify the data quality"
   ]
  },
  {
   "cell_type": "code",
   "execution_count": 18,
   "metadata": {},
   "outputs": [
    {
     "data": {
      "text/plain": [
       "70000"
      ]
     },
     "execution_count": 18,
     "metadata": {},
     "output_type": "execute_result"
    }
   ],
   "source": [
    "# Count number of missing Value\n",
    "df.na.drop().count()"
   ]
  },
  {
   "cell_type": "code",
   "execution_count": 19,
   "metadata": {},
   "outputs": [
    {
     "name": "stdout",
     "output_type": "stream",
     "text": [
      "root\n",
      " |-- id: string (nullable = true)\n",
      " |-- age: string (nullable = true)\n",
      " |-- gender: string (nullable = true)\n",
      " |-- height: string (nullable = true)\n",
      " |-- weight: string (nullable = true)\n",
      " |-- ap_hi: string (nullable = true)\n",
      " |-- ap_lo: string (nullable = true)\n",
      " |-- cholesterol: string (nullable = true)\n",
      " |-- gluc: string (nullable = true)\n",
      " |-- smoke: string (nullable = true)\n",
      " |-- alco: string (nullable = true)\n",
      " |-- active: string (nullable = true)\n",
      " |-- cardio: string (nullable = true)\n",
      "\n"
     ]
    }
   ],
   "source": [
    "# Measurement errors\n",
    "df.printSchema()"
   ]
  },
  {
   "cell_type": "code",
   "execution_count": 20,
   "metadata": {},
   "outputs": [
    {
     "name": "stdout",
     "output_type": "stream",
     "text": [
      "root\n",
      " |-- id: integer (nullable = true)\n",
      " |-- age: integer (nullable = true)\n",
      " |-- gender: integer (nullable = true)\n",
      " |-- height: integer (nullable = true)\n",
      " |-- weight: float (nullable = true)\n",
      " |-- ap_hi: integer (nullable = true)\n",
      " |-- ap_lo: integer (nullable = true)\n",
      " |-- cholesterol: integer (nullable = true)\n",
      " |-- gluc: integer (nullable = true)\n",
      " |-- smoke: integer (nullable = true)\n",
      " |-- alco: integer (nullable = true)\n",
      " |-- active: integer (nullable = true)\n",
      " |-- cardio: integer (nullable = true)\n",
      "\n"
     ]
    }
   ],
   "source": [
    "from pyspark.sql.types import (StructField,StringType,IntegerType,FloatType,StructType)\n",
    "\n",
    "data_schema = [StructField('id',IntegerType(),True),\n",
    "              StructField('age',IntegerType(),True),\n",
    "              StructField('gender',IntegerType(),True),\n",
    "              StructField('height',IntegerType(),True),\n",
    "              StructField('weight',FloatType(),True),\n",
    "              StructField('ap_hi',IntegerType(),True),\n",
    "              StructField('ap_lo',IntegerType(),True),\n",
    "              StructField('cholesterol',IntegerType(),True),\n",
    "              StructField('gluc',IntegerType(),True),\n",
    "              StructField('smoke',IntegerType(),True),\n",
    "              StructField('alco',IntegerType(),True),\n",
    "              StructField('active',IntegerType(),True),\n",
    "              StructField('cardio',IntegerType(),True)]\n",
    "\n",
    "final_struct = StructType(fields=data_schema)\n",
    "\n",
    "df = spark.read.load(\"./cardio_train.csv\", format=\"csv\", header=\"true\", schema=final_struct)\n",
    "\n",
    "df.printSchema()"
   ]
  },
  {
   "cell_type": "code",
   "execution_count": 21,
   "metadata": {},
   "outputs": [
    {
     "name": "stdout",
     "output_type": "stream",
     "text": [
      "29\n",
      "+-----+-----+\n",
      "|ap_hi|ap_lo|\n",
      "+-----+-----+\n",
      "|  906|    0|\n",
      "| -100|   80|\n",
      "|  130|    0|\n",
      "| -115|   70|\n",
      "|  138|    0|\n",
      "|  138|    0|\n",
      "| -100|   70|\n",
      "|  149|    0|\n",
      "|  906|    0|\n",
      "| -140|   90|\n",
      "| -120|   80|\n",
      "|   12|    0|\n",
      "|  140|    0|\n",
      "|  907|    0|\n",
      "| -150|   80|\n",
      "|  148|    0|\n",
      "|  309|    0|\n",
      "|  806|    0|\n",
      "|  906|    0|\n",
      "|  108|    0|\n",
      "+-----+-----+\n",
      "only showing top 20 rows\n",
      "\n"
     ]
    }
   ],
   "source": [
    "# Data errors\n",
    "print(df.filter((df['ap_hi']<=0) | (df['ap_lo']<=0)).count())\n",
    "df.filter((df['ap_hi']<=0) | (df['ap_lo']<=0)).select('ap_hi', 'ap_lo').show()"
   ]
  },
  {
   "cell_type": "code",
   "execution_count": 22,
   "metadata": {},
   "outputs": [
    {
     "name": "stdout",
     "output_type": "stream",
     "text": [
      "1234\n",
      "+-----+-----+\n",
      "|ap_hi|ap_lo|\n",
      "+-----+-----+\n",
      "|  160| 1100|\n",
      "|  160| 1000|\n",
      "|  140|  800|\n",
      "|  160| 1000|\n",
      "|  140| 1000|\n",
      "|  150| 1033|\n",
      "|  120|  150|\n",
      "|  200| 1000|\n",
      "|   14|   90|\n",
      "|  140| 1000|\n",
      "|   70|  110|\n",
      "|  190| 1100|\n",
      "|  180| 1000|\n",
      "|  140| 1000|\n",
      "|  150| 1100|\n",
      "|   14|   90|\n",
      "|   11|   80|\n",
      "|  160| 1000|\n",
      "|  150| 1001|\n",
      "|  140| 1000|\n",
      "+-----+-----+\n",
      "only showing top 20 rows\n",
      "\n"
     ]
    }
   ],
   "source": [
    "print(df.filter(df['ap_lo'] > df['ap_hi']).count())\n",
    "df.filter(df['ap_lo'] > df['ap_hi']).select('ap_hi', 'ap_lo').show()"
   ]
  },
  {
   "cell_type": "code",
   "execution_count": null,
   "metadata": {},
   "outputs": [],
   "source": []
  }
 ],
 "metadata": {
  "kernelspec": {
   "display_name": "Python 3",
   "language": "python",
   "name": "python3"
  },
  "language_info": {
   "codemirror_mode": {
    "name": "ipython",
    "version": 3
   },
   "file_extension": ".py",
   "mimetype": "text/x-python",
   "name": "python",
   "nbconvert_exporter": "python",
   "pygments_lexer": "ipython3",
   "version": "3.5.2"
  }
 },
 "nbformat": 4,
 "nbformat_minor": 2
}
