{
 "cells": [
  {
   "cell_type": "code",
   "execution_count": 1,
   "metadata": {},
   "outputs": [],
   "source": [
    "import findspark\n",
    "findspark.init('/home/ubuntu/spark-2.1.1-bin-hadoop2.7')\n",
    "import pyspark\n",
    "from pyspark.sql import SparkSession\n",
    "spark = SparkSession.builder.appName('Iteration 4').getOrCreate()"
   ]
  },
  {
   "cell_type": "code",
   "execution_count": 2,
   "metadata": {},
   "outputs": [],
   "source": [
    "from pyspark.sql.types import (StructField,StringType,IntegerType,FloatType,StructType)\n",
    "\n",
    "data_schema = [StructField('age',IntegerType(),True),\n",
    "              StructField('gender',IntegerType(),True),\n",
    "              StructField('height',IntegerType(),True),\n",
    "              StructField('weight',FloatType(),True),\n",
    "              StructField('blood pressure',IntegerType(),True),\n",
    "              StructField('cholesterol',IntegerType(),True),\n",
    "              StructField('gluc',IntegerType(),True),\n",
    "              StructField('smoke',IntegerType(),True),\n",
    "              StructField('alco',IntegerType(),True),\n",
    "              StructField('active',IntegerType(),True),\n",
    "              StructField('cardio',IntegerType(),True)]\n",
    "\n",
    "final_struct = StructType(fields=data_schema)\n",
    "\n",
    "df = spark.read.load(\"./new_train.csv\", format=\"csv\", header=\"true\", schema=final_struct)"
   ]
  },
  {
   "cell_type": "markdown",
   "metadata": {},
   "source": [
    "###### 4.1 Reduce the data"
   ]
  },
  {
   "cell_type": "code",
   "execution_count": 3,
   "metadata": {},
   "outputs": [],
   "source": [
    "import numpy as np\n",
    "import pandas as pd\n",
    "import matplotlib.pyplot as plt\n",
    "import seaborn as sns\n",
    "\n",
    "pdf = pd.read_csv(\"./new_train.csv\")\n",
    "\n",
    "corr = pdf.corr(method='pearson')\n",
    "cmap = sns.diverging_palette(220, 10, as_cmap=True)\n",
    "# Generate a mask for the upper triangle\n",
    "mask = np.zeros_like(corr, dtype=np.bool)\n",
    "mask[np.triu_indices_from(mask)] = True\n",
    "\n",
    "# Set up the matplotlib figure\n",
    "f, ax = plt.subplots(figsize=(11, 9))\n",
    "# Draw the heatmap with the mask and correct aspect ratio\n",
    "sns.heatmap(corr, mask=mask, cmap=cmap, vmax=.3, center=0,annot = True,\n",
    "             square=True, linewidths=.5, cbar_kws={\"shrink\": .5});"
   ]
  },
  {
   "cell_type": "code",
   "execution_count": 4,
   "metadata": {},
   "outputs": [
    {
     "name": "stdout",
     "output_type": "stream",
     "text": [
      "+---+------+--------------+-----------+----+------+\n",
      "|age|weight|blood pressure|cholesterol|gluc|cardio|\n",
      "+---+------+--------------+-----------+----+------+\n",
      "| 50|  62.0|             3|          1|   1|     0|\n",
      "| 55|  85.0|             4|          3|   1|     1|\n",
      "| 52|  64.0|             3|          3|   1|     1|\n",
      "| 48|  82.0|             4|          1|   1|     1|\n",
      "| 60|  67.0|             3|          2|   2|     0|\n",
      "| 61|  93.0|             3|          3|   1|     0|\n",
      "| 62|  95.0|             3|          3|   3|     1|\n",
      "| 48|  71.0|             1|          1|   1|     0|\n",
      "| 62|  80.0|             3|          1|   1|     0|\n",
      "| 52|  60.0|             3|          1|   1|     0|\n",
      "| 41|  60.0|             3|          1|   1|     0|\n",
      "| 54|  78.0|             1|          1|   1|     0|\n",
      "| 40|  95.0|             3|          1|   1|     0|\n",
      "| 58|  75.0|             3|          1|   1|     0|\n",
      "| 46|  52.0|             1|          1|   3|     0|\n",
      "| 48|  68.0|             1|          1|   1|     0|\n",
      "| 60|  56.0|             2|          1|   1|     0|\n",
      "| 54|  83.0|             3|          1|   1|     0|\n",
      "| 59|  69.0|             3|          1|   1|     0|\n",
      "| 63|  90.0|             3|          2|   2|     1|\n",
      "+---+------+--------------+-----------+----+------+\n",
      "only showing top 20 rows\n",
      "\n"
     ]
    }
   ],
   "source": [
    "df = df.drop('gender','height','smoke','alco','active')\n",
    "df.show()"
   ]
  },
  {
   "cell_type": "markdown",
   "metadata": {},
   "source": [
    "###### 4.2 Project the data"
   ]
  },
  {
   "cell_type": "code",
   "execution_count": 5,
   "metadata": {},
   "outputs": [
    {
     "data": {
      "text/plain": [
       "0    31634\n",
       "1    30868\n",
       "Name: cardio, dtype: int64"
      ]
     },
     "execution_count": 5,
     "metadata": {},
     "output_type": "execute_result"
    }
   ],
   "source": [
    "pdf[\"cardio\"].value_counts()"
   ]
  },
  {
   "cell_type": "code",
   "execution_count": 6,
   "metadata": {},
   "outputs": [
    {
     "data": {
      "text/plain": [
       "1    30868\n",
       "0    30868\n",
       "Name: cardio, dtype: int64"
      ]
     },
     "execution_count": 6,
     "metadata": {},
     "output_type": "execute_result"
    }
   ],
   "source": [
    "g = pdf.groupby(\"cardio\")\n",
    "balanced = pd.DataFrame(g.apply(lambda x: x.sample(g.size().min()).reset_index(drop=True)))\n",
    "\n",
    "balanced[\"cardio\"].value_counts()"
   ]
  },
  {
   "cell_type": "code",
   "execution_count": 7,
   "metadata": {},
   "outputs": [],
   "source": [
    "balanced.to_csv(\"balanced.csv\", encoding='utf-8', index=False)\n",
    "balanced = pd.read_csv(\"./balanced.csv\")"
   ]
  },
  {
   "cell_type": "code",
   "execution_count": null,
   "metadata": {},
   "outputs": [],
   "source": []
  }
 ],
 "metadata": {
  "kernelspec": {
   "display_name": "Python 3",
   "language": "python",
   "name": "python3"
  },
  "language_info": {
   "codemirror_mode": {
    "name": "ipython",
    "version": 3
   },
   "file_extension": ".py",
   "mimetype": "text/x-python",
   "name": "python",
   "nbconvert_exporter": "python",
   "pygments_lexer": "ipython3",
   "version": "3.5.2"
  }
 },
 "nbformat": 4,
 "nbformat_minor": 2
}
